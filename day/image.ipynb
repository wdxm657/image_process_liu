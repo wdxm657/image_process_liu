{
 "cells": [
  {
   "cell_type": "code",
   "execution_count": 36,
   "metadata": {},
   "outputs": [
    {
     "name": "stdout",
     "output_type": "stream",
     "text": [
      "img read success\n",
      "exit sys\n"
     ]
    }
   ],
   "source": [
    "import cv2 as cv\n",
    "import sys\n",
    "import matplotlib.pyplot as plt\n",
    "\n",
    "INPUT_IMG_PATH = '../image/l.png'\n",
    "OUTPUT_IMG_PATH = '../data/save_l.png'\n",
    "\n",
    "def opencv_showimg(img):\n",
    "    cv.imshow(\"img\",img)\n",
    "    k = cv.waitKey(0)\n",
    "    return k\n",
    "\n",
    "def plt_show_pic(img):\n",
    "    plt.figure(figsize=(5, 5))\n",
    "    plt.subplot(1, 1, 1)\n",
    "    img[0] = cv.cvtColor(img[0], cv.COLOR_RGB2BGR)\n",
    "    plt.imshow(img[0])\n",
    "    plt.title(\"img_1\")\n",
    "    k = input(\"input 's' to save img:\\n\")\n",
    "    return k\n",
    "    \n",
    "img = cv.imread(INPUT_IMG_PATH)\n",
    "if img is None:\n",
    "    sys.exit(\"read image failed\")\n",
    "print(\"img read success\")\n",
    "\n",
    "# k = plt_show_pic([img])\n",
    "k = opencv_showimg(img)\n",
    "\n",
    "if k == 's' or k == ord('s'):\n",
    "    cv.imwrite(OUTPUT_IMG_PATH,img)\n",
    "    print(\"image save success\")\n",
    "cv.destroyAllWindows()\n",
    "\n",
    "print(\"exit sys\")"
   ]
  }
 ],
 "metadata": {
  "kernelspec": {
   "display_name": "Python 3",
   "language": "python",
   "name": "python3"
  },
  "language_info": {
   "codemirror_mode": {
    "name": "ipython",
    "version": 3
   },
   "file_extension": ".py",
   "mimetype": "text/x-python",
   "name": "python",
   "nbconvert_exporter": "python",
   "pygments_lexer": "ipython3",
   "version": "3.11.1"
  },
  "orig_nbformat": 4,
  "vscode": {
   "interpreter": {
    "hash": "865d8b2eb28e274047ba64063dfb6a2aabf0dfec4905d304d7a76618dae6fdd4"
   }
  }
 },
 "nbformat": 4,
 "nbformat_minor": 2
}
