{
 "cells": [
  {
   "cell_type": "code",
   "execution_count": 2,
   "metadata": {},
   "outputs": [],
   "source": [
    "import cv2 as cv\n",
    "import sys\n",
    "\n",
    "img = cv.imread(\"../image/l.png\")\n",
    "if img is None:\n",
    "    sys.exit(\"read image failed\")\n",
    "print(\"img read success\")\n",
    "cv.imshow(\"img\",img)\n",
    "\n",
    "k = cv.waitKey(0)\n",
    "if k == ord('s'):\n",
    "    cv.imwrite(\"../data/save_l.png\",img)\n",
    "    print(\"image save success\")\n",
    "\n",
    "cv.destroyAllWindows()\n",
    "print(\"exit sys\")\n"
   ]
  }
 ],
 "metadata": {
  "kernelspec": {
   "display_name": "Python 3",
   "language": "python",
   "name": "python3"
  },
  "language_info": {
   "codemirror_mode": {
    "name": "ipython",
    "version": 3
   },
   "file_extension": ".py",
   "mimetype": "text/x-python",
   "name": "python",
   "nbconvert_exporter": "python",
   "pygments_lexer": "ipython3",
   "version": "3.11.1"
  },
  "orig_nbformat": 4,
  "vscode": {
   "interpreter": {
    "hash": "865d8b2eb28e274047ba64063dfb6a2aabf0dfec4905d304d7a76618dae6fdd4"
   }
  }
 },
 "nbformat": 4,
 "nbformat_minor": 2
}
